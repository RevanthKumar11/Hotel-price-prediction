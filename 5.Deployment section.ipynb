{
 "cells": [
  {
   "cell_type": "markdown",
   "id": "dfd00a7a",
   "metadata": {},
   "source": [
    "  # House price Prediction - Deployment"
   ]
  },
  {
   "cell_type": "code",
   "execution_count": 101,
   "id": "7cb715c1",
   "metadata": {
    "ExecuteTime": {
     "end_time": "2024-03-05T16:11:07.859391Z",
     "start_time": "2024-03-05T16:11:07.853373Z"
    }
   },
   "outputs": [],
   "source": [
    "import pandas as pd \n",
    "import matplotlib.pyplot as plt\n",
    "from sklearn.model_selection import train_test_split\n",
    "from sklearn.preprocessing import StandardScaler\n",
    "from xgboost import XGBRegressor\n",
    "from sklearn.linear_model import LinearRegression\n",
    "from sklearn.metrics import r2_score"
   ]
  },
  {
   "cell_type": "code",
   "execution_count": 102,
   "id": "3a760314",
   "metadata": {
    "ExecuteTime": {
     "end_time": "2024-03-05T16:11:08.315804Z",
     "start_time": "2024-03-05T16:11:08.218481Z"
    }
   },
   "outputs": [
    {
     "data": {
      "text/plain": [
       "(74142, 17)"
      ]
     },
     "execution_count": 102,
     "metadata": {},
     "output_type": "execute_result"
    }
   ],
   "source": [
    "dataSet = pd.read_csv('hotelPriceCleaned.csv')\n",
    "dataSet.shape"
   ]
  },
  {
   "cell_type": "code",
   "execution_count": 103,
   "id": "3b196e97",
   "metadata": {
    "ExecuteTime": {
     "end_time": "2024-03-05T16:11:09.415366Z",
     "start_time": "2024-03-05T16:11:09.378661Z"
    }
   },
   "outputs": [
    {
     "data": {
      "text/html": [
       "<div>\n",
       "<style scoped>\n",
       "    .dataframe tbody tr th:only-of-type {\n",
       "        vertical-align: middle;\n",
       "    }\n",
       "\n",
       "    .dataframe tbody tr th {\n",
       "        vertical-align: top;\n",
       "    }\n",
       "\n",
       "    .dataframe thead th {\n",
       "        text-align: right;\n",
       "    }\n",
       "</style>\n",
       "<table border=\"1\" class=\"dataframe\">\n",
       "  <thead>\n",
       "    <tr style=\"text-align: right;\">\n",
       "      <th></th>\n",
       "      <th>hotel</th>\n",
       "      <th>lead_time</th>\n",
       "      <th>arrival_date_year</th>\n",
       "      <th>arrival_date_month</th>\n",
       "      <th>arrival_date_day_of_month</th>\n",
       "      <th>meal</th>\n",
       "      <th>market_segment</th>\n",
       "      <th>reserved_room_type</th>\n",
       "      <th>assigned_room_type</th>\n",
       "      <th>deposit_type</th>\n",
       "      <th>days_in_waiting_list</th>\n",
       "      <th>customer_type</th>\n",
       "      <th>adr</th>\n",
       "      <th>required_car_parking_spaces</th>\n",
       "      <th>total_of_special_requests</th>\n",
       "      <th>totalStayNights</th>\n",
       "      <th>totalPerson</th>\n",
       "    </tr>\n",
       "  </thead>\n",
       "  <tbody>\n",
       "    <tr>\n",
       "      <th>0</th>\n",
       "      <td>1</td>\n",
       "      <td>7</td>\n",
       "      <td>2015</td>\n",
       "      <td>5</td>\n",
       "      <td>1</td>\n",
       "      <td>0</td>\n",
       "      <td>3</td>\n",
       "      <td>0</td>\n",
       "      <td>2</td>\n",
       "      <td>0</td>\n",
       "      <td>0</td>\n",
       "      <td>2</td>\n",
       "      <td>75.0</td>\n",
       "      <td>0</td>\n",
       "      <td>0</td>\n",
       "      <td>1</td>\n",
       "      <td>1.0</td>\n",
       "    </tr>\n",
       "    <tr>\n",
       "      <th>1</th>\n",
       "      <td>1</td>\n",
       "      <td>13</td>\n",
       "      <td>2015</td>\n",
       "      <td>5</td>\n",
       "      <td>1</td>\n",
       "      <td>0</td>\n",
       "      <td>2</td>\n",
       "      <td>0</td>\n",
       "      <td>0</td>\n",
       "      <td>0</td>\n",
       "      <td>0</td>\n",
       "      <td>2</td>\n",
       "      <td>75.0</td>\n",
       "      <td>0</td>\n",
       "      <td>0</td>\n",
       "      <td>1</td>\n",
       "      <td>1.0</td>\n",
       "    </tr>\n",
       "    <tr>\n",
       "      <th>2</th>\n",
       "      <td>1</td>\n",
       "      <td>14</td>\n",
       "      <td>2015</td>\n",
       "      <td>5</td>\n",
       "      <td>1</td>\n",
       "      <td>0</td>\n",
       "      <td>6</td>\n",
       "      <td>0</td>\n",
       "      <td>0</td>\n",
       "      <td>0</td>\n",
       "      <td>0</td>\n",
       "      <td>2</td>\n",
       "      <td>98.0</td>\n",
       "      <td>0</td>\n",
       "      <td>1</td>\n",
       "      <td>2</td>\n",
       "      <td>2.0</td>\n",
       "    </tr>\n",
       "    <tr>\n",
       "      <th>3</th>\n",
       "      <td>1</td>\n",
       "      <td>0</td>\n",
       "      <td>2015</td>\n",
       "      <td>5</td>\n",
       "      <td>1</td>\n",
       "      <td>0</td>\n",
       "      <td>3</td>\n",
       "      <td>2</td>\n",
       "      <td>2</td>\n",
       "      <td>0</td>\n",
       "      <td>0</td>\n",
       "      <td>2</td>\n",
       "      <td>107.0</td>\n",
       "      <td>0</td>\n",
       "      <td>0</td>\n",
       "      <td>2</td>\n",
       "      <td>2.0</td>\n",
       "    </tr>\n",
       "    <tr>\n",
       "      <th>4</th>\n",
       "      <td>1</td>\n",
       "      <td>9</td>\n",
       "      <td>2015</td>\n",
       "      <td>5</td>\n",
       "      <td>1</td>\n",
       "      <td>1</td>\n",
       "      <td>3</td>\n",
       "      <td>2</td>\n",
       "      <td>2</td>\n",
       "      <td>0</td>\n",
       "      <td>0</td>\n",
       "      <td>2</td>\n",
       "      <td>103.0</td>\n",
       "      <td>0</td>\n",
       "      <td>1</td>\n",
       "      <td>2</td>\n",
       "      <td>2.0</td>\n",
       "    </tr>\n",
       "  </tbody>\n",
       "</table>\n",
       "</div>"
      ],
      "text/plain": [
       "   hotel  lead_time  arrival_date_year  arrival_date_month  \\\n",
       "0      1          7               2015                   5   \n",
       "1      1         13               2015                   5   \n",
       "2      1         14               2015                   5   \n",
       "3      1          0               2015                   5   \n",
       "4      1          9               2015                   5   \n",
       "\n",
       "   arrival_date_day_of_month  meal  market_segment  reserved_room_type  \\\n",
       "0                          1     0               3                   0   \n",
       "1                          1     0               2                   0   \n",
       "2                          1     0               6                   0   \n",
       "3                          1     0               3                   2   \n",
       "4                          1     1               3                   2   \n",
       "\n",
       "   assigned_room_type  deposit_type  days_in_waiting_list  customer_type  \\\n",
       "0                   2             0                     0              2   \n",
       "1                   0             0                     0              2   \n",
       "2                   0             0                     0              2   \n",
       "3                   2             0                     0              2   \n",
       "4                   2             0                     0              2   \n",
       "\n",
       "     adr  required_car_parking_spaces  total_of_special_requests  \\\n",
       "0   75.0                            0                          0   \n",
       "1   75.0                            0                          0   \n",
       "2   98.0                            0                          1   \n",
       "3  107.0                            0                          0   \n",
       "4  103.0                            0                          1   \n",
       "\n",
       "   totalStayNights  totalPerson  \n",
       "0                1          1.0  \n",
       "1                1          1.0  \n",
       "2                2          2.0  \n",
       "3                2          2.0  \n",
       "4                2          2.0  "
      ]
     },
     "execution_count": 103,
     "metadata": {},
     "output_type": "execute_result"
    }
   ],
   "source": [
    "dataSet.head()"
   ]
  },
  {
   "cell_type": "code",
   "execution_count": 104,
   "id": "86990892",
   "metadata": {
    "ExecuteTime": {
     "end_time": "2024-03-05T16:11:11.176562Z",
     "start_time": "2024-03-05T16:11:11.154369Z"
    }
   },
   "outputs": [],
   "source": [
    "independent = dataSet.drop(columns='adr')\n",
    "dependent = dataSet[['adr']]"
   ]
  },
  {
   "cell_type": "code",
   "execution_count": 105,
   "id": "686f59fe",
   "metadata": {
    "ExecuteTime": {
     "end_time": "2024-03-05T16:11:13.868747Z",
     "start_time": "2024-03-05T16:11:13.851099Z"
    }
   },
   "outputs": [
    {
     "data": {
      "text/html": [
       "<div>\n",
       "<style scoped>\n",
       "    .dataframe tbody tr th:only-of-type {\n",
       "        vertical-align: middle;\n",
       "    }\n",
       "\n",
       "    .dataframe tbody tr th {\n",
       "        vertical-align: top;\n",
       "    }\n",
       "\n",
       "    .dataframe thead th {\n",
       "        text-align: right;\n",
       "    }\n",
       "</style>\n",
       "<table border=\"1\" class=\"dataframe\">\n",
       "  <thead>\n",
       "    <tr style=\"text-align: right;\">\n",
       "      <th></th>\n",
       "      <th>hotel</th>\n",
       "      <th>lead_time</th>\n",
       "      <th>arrival_date_year</th>\n",
       "      <th>arrival_date_month</th>\n",
       "      <th>arrival_date_day_of_month</th>\n",
       "      <th>meal</th>\n",
       "      <th>market_segment</th>\n",
       "      <th>reserved_room_type</th>\n",
       "      <th>assigned_room_type</th>\n",
       "      <th>deposit_type</th>\n",
       "      <th>days_in_waiting_list</th>\n",
       "      <th>customer_type</th>\n",
       "      <th>required_car_parking_spaces</th>\n",
       "      <th>total_of_special_requests</th>\n",
       "      <th>totalStayNights</th>\n",
       "      <th>totalPerson</th>\n",
       "    </tr>\n",
       "  </thead>\n",
       "  <tbody>\n",
       "    <tr>\n",
       "      <th>0</th>\n",
       "      <td>1</td>\n",
       "      <td>7</td>\n",
       "      <td>2015</td>\n",
       "      <td>5</td>\n",
       "      <td>1</td>\n",
       "      <td>0</td>\n",
       "      <td>3</td>\n",
       "      <td>0</td>\n",
       "      <td>2</td>\n",
       "      <td>0</td>\n",
       "      <td>0</td>\n",
       "      <td>2</td>\n",
       "      <td>0</td>\n",
       "      <td>0</td>\n",
       "      <td>1</td>\n",
       "      <td>1.0</td>\n",
       "    </tr>\n",
       "    <tr>\n",
       "      <th>1</th>\n",
       "      <td>1</td>\n",
       "      <td>13</td>\n",
       "      <td>2015</td>\n",
       "      <td>5</td>\n",
       "      <td>1</td>\n",
       "      <td>0</td>\n",
       "      <td>2</td>\n",
       "      <td>0</td>\n",
       "      <td>0</td>\n",
       "      <td>0</td>\n",
       "      <td>0</td>\n",
       "      <td>2</td>\n",
       "      <td>0</td>\n",
       "      <td>0</td>\n",
       "      <td>1</td>\n",
       "      <td>1.0</td>\n",
       "    </tr>\n",
       "    <tr>\n",
       "      <th>2</th>\n",
       "      <td>1</td>\n",
       "      <td>14</td>\n",
       "      <td>2015</td>\n",
       "      <td>5</td>\n",
       "      <td>1</td>\n",
       "      <td>0</td>\n",
       "      <td>6</td>\n",
       "      <td>0</td>\n",
       "      <td>0</td>\n",
       "      <td>0</td>\n",
       "      <td>0</td>\n",
       "      <td>2</td>\n",
       "      <td>0</td>\n",
       "      <td>1</td>\n",
       "      <td>2</td>\n",
       "      <td>2.0</td>\n",
       "    </tr>\n",
       "    <tr>\n",
       "      <th>3</th>\n",
       "      <td>1</td>\n",
       "      <td>0</td>\n",
       "      <td>2015</td>\n",
       "      <td>5</td>\n",
       "      <td>1</td>\n",
       "      <td>0</td>\n",
       "      <td>3</td>\n",
       "      <td>2</td>\n",
       "      <td>2</td>\n",
       "      <td>0</td>\n",
       "      <td>0</td>\n",
       "      <td>2</td>\n",
       "      <td>0</td>\n",
       "      <td>0</td>\n",
       "      <td>2</td>\n",
       "      <td>2.0</td>\n",
       "    </tr>\n",
       "    <tr>\n",
       "      <th>4</th>\n",
       "      <td>1</td>\n",
       "      <td>9</td>\n",
       "      <td>2015</td>\n",
       "      <td>5</td>\n",
       "      <td>1</td>\n",
       "      <td>1</td>\n",
       "      <td>3</td>\n",
       "      <td>2</td>\n",
       "      <td>2</td>\n",
       "      <td>0</td>\n",
       "      <td>0</td>\n",
       "      <td>2</td>\n",
       "      <td>0</td>\n",
       "      <td>1</td>\n",
       "      <td>2</td>\n",
       "      <td>2.0</td>\n",
       "    </tr>\n",
       "  </tbody>\n",
       "</table>\n",
       "</div>"
      ],
      "text/plain": [
       "   hotel  lead_time  arrival_date_year  arrival_date_month  \\\n",
       "0      1          7               2015                   5   \n",
       "1      1         13               2015                   5   \n",
       "2      1         14               2015                   5   \n",
       "3      1          0               2015                   5   \n",
       "4      1          9               2015                   5   \n",
       "\n",
       "   arrival_date_day_of_month  meal  market_segment  reserved_room_type  \\\n",
       "0                          1     0               3                   0   \n",
       "1                          1     0               2                   0   \n",
       "2                          1     0               6                   0   \n",
       "3                          1     0               3                   2   \n",
       "4                          1     1               3                   2   \n",
       "\n",
       "   assigned_room_type  deposit_type  days_in_waiting_list  customer_type  \\\n",
       "0                   2             0                     0              2   \n",
       "1                   0             0                     0              2   \n",
       "2                   0             0                     0              2   \n",
       "3                   2             0                     0              2   \n",
       "4                   2             0                     0              2   \n",
       "\n",
       "   required_car_parking_spaces  total_of_special_requests  totalStayNights  \\\n",
       "0                            0                          0                1   \n",
       "1                            0                          0                1   \n",
       "2                            0                          1                2   \n",
       "3                            0                          0                2   \n",
       "4                            0                          1                2   \n",
       "\n",
       "   totalPerson  \n",
       "0          1.0  \n",
       "1          1.0  \n",
       "2          2.0  \n",
       "3          2.0  \n",
       "4          2.0  "
      ]
     },
     "execution_count": 105,
     "metadata": {},
     "output_type": "execute_result"
    }
   ],
   "source": [
    "independent.head()"
   ]
  },
  {
   "cell_type": "code",
   "execution_count": 106,
   "id": "dc55a7f4",
   "metadata": {
    "ExecuteTime": {
     "end_time": "2024-03-05T16:11:15.390453Z",
     "start_time": "2024-03-05T16:11:15.377024Z"
    }
   },
   "outputs": [
    {
     "data": {
      "text/html": [
       "<div>\n",
       "<style scoped>\n",
       "    .dataframe tbody tr th:only-of-type {\n",
       "        vertical-align: middle;\n",
       "    }\n",
       "\n",
       "    .dataframe tbody tr th {\n",
       "        vertical-align: top;\n",
       "    }\n",
       "\n",
       "    .dataframe thead th {\n",
       "        text-align: right;\n",
       "    }\n",
       "</style>\n",
       "<table border=\"1\" class=\"dataframe\">\n",
       "  <thead>\n",
       "    <tr style=\"text-align: right;\">\n",
       "      <th></th>\n",
       "      <th>adr</th>\n",
       "    </tr>\n",
       "  </thead>\n",
       "  <tbody>\n",
       "    <tr>\n",
       "      <th>0</th>\n",
       "      <td>75.0</td>\n",
       "    </tr>\n",
       "    <tr>\n",
       "      <th>1</th>\n",
       "      <td>75.0</td>\n",
       "    </tr>\n",
       "    <tr>\n",
       "      <th>2</th>\n",
       "      <td>98.0</td>\n",
       "    </tr>\n",
       "    <tr>\n",
       "      <th>3</th>\n",
       "      <td>107.0</td>\n",
       "    </tr>\n",
       "    <tr>\n",
       "      <th>4</th>\n",
       "      <td>103.0</td>\n",
       "    </tr>\n",
       "  </tbody>\n",
       "</table>\n",
       "</div>"
      ],
      "text/plain": [
       "     adr\n",
       "0   75.0\n",
       "1   75.0\n",
       "2   98.0\n",
       "3  107.0\n",
       "4  103.0"
      ]
     },
     "execution_count": 106,
     "metadata": {},
     "output_type": "execute_result"
    }
   ],
   "source": [
    "dependent.head()"
   ]
  },
  {
   "cell_type": "code",
   "execution_count": 107,
   "id": "09e5d904",
   "metadata": {
    "ExecuteTime": {
     "end_time": "2024-03-05T16:11:17.099850Z",
     "start_time": "2024-03-05T16:11:17.023692Z"
    }
   },
   "outputs": [
    {
     "data": {
      "text/html": [
       "<div>\n",
       "<style scoped>\n",
       "    .dataframe tbody tr th:only-of-type {\n",
       "        vertical-align: middle;\n",
       "    }\n",
       "\n",
       "    .dataframe tbody tr th {\n",
       "        vertical-align: top;\n",
       "    }\n",
       "\n",
       "    .dataframe thead th {\n",
       "        text-align: right;\n",
       "    }\n",
       "</style>\n",
       "<table border=\"1\" class=\"dataframe\">\n",
       "  <thead>\n",
       "    <tr style=\"text-align: right;\">\n",
       "      <th></th>\n",
       "      <th>hotel</th>\n",
       "      <th>lead_time</th>\n",
       "      <th>arrival_date_year</th>\n",
       "      <th>arrival_date_month</th>\n",
       "      <th>arrival_date_day_of_month</th>\n",
       "      <th>meal</th>\n",
       "      <th>market_segment</th>\n",
       "      <th>reserved_room_type</th>\n",
       "      <th>assigned_room_type</th>\n",
       "      <th>deposit_type</th>\n",
       "      <th>days_in_waiting_list</th>\n",
       "      <th>customer_type</th>\n",
       "      <th>required_car_parking_spaces</th>\n",
       "      <th>total_of_special_requests</th>\n",
       "      <th>totalStayNights</th>\n",
       "      <th>totalPerson</th>\n",
       "    </tr>\n",
       "  </thead>\n",
       "  <tbody>\n",
       "    <tr>\n",
       "      <th>0</th>\n",
       "      <td>1.400294</td>\n",
       "      <td>-0.888574</td>\n",
       "      <td>-1.82427</td>\n",
       "      <td>-0.062444</td>\n",
       "      <td>-1.674065</td>\n",
       "      <td>-0.544276</td>\n",
       "      <td>-1.772949</td>\n",
       "      <td>-0.735479</td>\n",
       "      <td>0.156552</td>\n",
       "      <td>-0.113241</td>\n",
       "      <td>-0.068754</td>\n",
       "      <td>-0.052593</td>\n",
       "      <td>-0.304349</td>\n",
       "      <td>-0.875107</td>\n",
       "      <td>-1.023153</td>\n",
       "      <td>-1.561893</td>\n",
       "    </tr>\n",
       "    <tr>\n",
       "      <th>1</th>\n",
       "      <td>1.400294</td>\n",
       "      <td>-0.817880</td>\n",
       "      <td>-1.82427</td>\n",
       "      <td>-0.062444</td>\n",
       "      <td>-1.674065</td>\n",
       "      <td>-0.544276</td>\n",
       "      <td>-2.574356</td>\n",
       "      <td>-0.735479</td>\n",
       "      <td>-0.855971</td>\n",
       "      <td>-0.113241</td>\n",
       "      <td>-0.068754</td>\n",
       "      <td>-0.052593</td>\n",
       "      <td>-0.304349</td>\n",
       "      <td>-0.875107</td>\n",
       "      <td>-1.023153</td>\n",
       "      <td>-1.561893</td>\n",
       "    </tr>\n",
       "    <tr>\n",
       "      <th>2</th>\n",
       "      <td>1.400294</td>\n",
       "      <td>-0.806098</td>\n",
       "      <td>-1.82427</td>\n",
       "      <td>-0.062444</td>\n",
       "      <td>-1.674065</td>\n",
       "      <td>-0.544276</td>\n",
       "      <td>0.631272</td>\n",
       "      <td>-0.735479</td>\n",
       "      <td>-0.855971</td>\n",
       "      <td>-0.113241</td>\n",
       "      <td>-0.068754</td>\n",
       "      <td>-0.052593</td>\n",
       "      <td>-0.304349</td>\n",
       "      <td>0.313625</td>\n",
       "      <td>-0.646426</td>\n",
       "      <td>-0.133739</td>\n",
       "    </tr>\n",
       "    <tr>\n",
       "      <th>3</th>\n",
       "      <td>1.400294</td>\n",
       "      <td>-0.971049</td>\n",
       "      <td>-1.82427</td>\n",
       "      <td>-0.062444</td>\n",
       "      <td>-1.674065</td>\n",
       "      <td>-0.544276</td>\n",
       "      <td>-1.772949</td>\n",
       "      <td>0.325249</td>\n",
       "      <td>0.156552</td>\n",
       "      <td>-0.113241</td>\n",
       "      <td>-0.068754</td>\n",
       "      <td>-0.052593</td>\n",
       "      <td>-0.304349</td>\n",
       "      <td>-0.875107</td>\n",
       "      <td>-0.646426</td>\n",
       "      <td>-0.133739</td>\n",
       "    </tr>\n",
       "    <tr>\n",
       "      <th>4</th>\n",
       "      <td>1.400294</td>\n",
       "      <td>-0.865009</td>\n",
       "      <td>-1.82427</td>\n",
       "      <td>-0.062444</td>\n",
       "      <td>-1.674065</td>\n",
       "      <td>0.352892</td>\n",
       "      <td>-1.772949</td>\n",
       "      <td>0.325249</td>\n",
       "      <td>0.156552</td>\n",
       "      <td>-0.113241</td>\n",
       "      <td>-0.068754</td>\n",
       "      <td>-0.052593</td>\n",
       "      <td>-0.304349</td>\n",
       "      <td>0.313625</td>\n",
       "      <td>-0.646426</td>\n",
       "      <td>-0.133739</td>\n",
       "    </tr>\n",
       "  </tbody>\n",
       "</table>\n",
       "</div>"
      ],
      "text/plain": [
       "      hotel  lead_time  arrival_date_year  arrival_date_month  \\\n",
       "0  1.400294  -0.888574           -1.82427           -0.062444   \n",
       "1  1.400294  -0.817880           -1.82427           -0.062444   \n",
       "2  1.400294  -0.806098           -1.82427           -0.062444   \n",
       "3  1.400294  -0.971049           -1.82427           -0.062444   \n",
       "4  1.400294  -0.865009           -1.82427           -0.062444   \n",
       "\n",
       "   arrival_date_day_of_month      meal  market_segment  reserved_room_type  \\\n",
       "0                  -1.674065 -0.544276       -1.772949           -0.735479   \n",
       "1                  -1.674065 -0.544276       -2.574356           -0.735479   \n",
       "2                  -1.674065 -0.544276        0.631272           -0.735479   \n",
       "3                  -1.674065 -0.544276       -1.772949            0.325249   \n",
       "4                  -1.674065  0.352892       -1.772949            0.325249   \n",
       "\n",
       "   assigned_room_type  deposit_type  days_in_waiting_list  customer_type  \\\n",
       "0            0.156552     -0.113241             -0.068754      -0.052593   \n",
       "1           -0.855971     -0.113241             -0.068754      -0.052593   \n",
       "2           -0.855971     -0.113241             -0.068754      -0.052593   \n",
       "3            0.156552     -0.113241             -0.068754      -0.052593   \n",
       "4            0.156552     -0.113241             -0.068754      -0.052593   \n",
       "\n",
       "   required_car_parking_spaces  total_of_special_requests  totalStayNights  \\\n",
       "0                    -0.304349                  -0.875107        -1.023153   \n",
       "1                    -0.304349                  -0.875107        -1.023153   \n",
       "2                    -0.304349                   0.313625        -0.646426   \n",
       "3                    -0.304349                  -0.875107        -0.646426   \n",
       "4                    -0.304349                   0.313625        -0.646426   \n",
       "\n",
       "   totalPerson  \n",
       "0    -1.561893  \n",
       "1    -1.561893  \n",
       "2    -0.133739  \n",
       "3    -0.133739  \n",
       "4    -0.133739  "
      ]
     },
     "execution_count": 107,
     "metadata": {},
     "output_type": "execute_result"
    }
   ],
   "source": [
    "independentScaler = StandardScaler()\n",
    "independent = pd.DataFrame(independentScaler.fit_transform(independent), columns= independent.columns)\n",
    "independent.head()"
   ]
  },
  {
   "cell_type": "code",
   "execution_count": 108,
   "id": "b2cee258",
   "metadata": {
    "ExecuteTime": {
     "end_time": "2024-03-05T16:11:19.108476Z",
     "start_time": "2024-03-05T16:11:19.086243Z"
    }
   },
   "outputs": [
    {
     "data": {
      "text/html": [
       "<div>\n",
       "<style scoped>\n",
       "    .dataframe tbody tr th:only-of-type {\n",
       "        vertical-align: middle;\n",
       "    }\n",
       "\n",
       "    .dataframe tbody tr th {\n",
       "        vertical-align: top;\n",
       "    }\n",
       "\n",
       "    .dataframe thead th {\n",
       "        text-align: right;\n",
       "    }\n",
       "</style>\n",
       "<table border=\"1\" class=\"dataframe\">\n",
       "  <thead>\n",
       "    <tr style=\"text-align: right;\">\n",
       "      <th></th>\n",
       "      <th>adr</th>\n",
       "    </tr>\n",
       "  </thead>\n",
       "  <tbody>\n",
       "    <tr>\n",
       "      <th>0</th>\n",
       "      <td>-0.876426</td>\n",
       "    </tr>\n",
       "    <tr>\n",
       "      <th>1</th>\n",
       "      <td>-0.876426</td>\n",
       "    </tr>\n",
       "    <tr>\n",
       "      <th>2</th>\n",
       "      <td>-0.391900</td>\n",
       "    </tr>\n",
       "    <tr>\n",
       "      <th>3</th>\n",
       "      <td>-0.202303</td>\n",
       "    </tr>\n",
       "    <tr>\n",
       "      <th>4</th>\n",
       "      <td>-0.286568</td>\n",
       "    </tr>\n",
       "  </tbody>\n",
       "</table>\n",
       "</div>"
      ],
      "text/plain": [
       "        adr\n",
       "0 -0.876426\n",
       "1 -0.876426\n",
       "2 -0.391900\n",
       "3 -0.202303\n",
       "4 -0.286568"
      ]
     },
     "execution_count": 108,
     "metadata": {},
     "output_type": "execute_result"
    }
   ],
   "source": [
    "dependentScaler = StandardScaler()\n",
    "dependent = pd.DataFrame(dependentScaler.fit_transform(dependent), columns= dependent.columns)\n",
    "dependent.head()"
   ]
  },
  {
   "cell_type": "code",
   "execution_count": 109,
   "id": "9f05b2e8",
   "metadata": {
    "ExecuteTime": {
     "end_time": "2024-03-05T16:11:20.447802Z",
     "start_time": "2024-03-05T16:11:20.408677Z"
    }
   },
   "outputs": [],
   "source": [
    "xTrain, xTest, yTrain, yTest = train_test_split(independent.values, dependent.values, test_size=0.30, random_state= 42)"
   ]
  },
  {
   "cell_type": "code",
   "execution_count": 110,
   "id": "c0248b6e",
   "metadata": {
    "ExecuteTime": {
     "end_time": "2024-03-05T16:11:22.515729Z",
     "start_time": "2024-03-05T16:11:20.846385Z"
    }
   },
   "outputs": [
    {
     "data": {
      "text/plain": [
       "XGBRegressor(base_score=0.5, booster='gbtree', callbacks=None,\n",
       "             colsample_bylevel=1, colsample_bynode=1, colsample_bytree=1,\n",
       "             early_stopping_rounds=None, enable_categorical=False,\n",
       "             eval_metric=None, gamma=0, gpu_id=-1, grow_policy='depthwise',\n",
       "             importance_type=None, interaction_constraints='',\n",
       "             learning_rate=0.300000012, max_bin=256, max_cat_to_onehot=4,\n",
       "             max_delta_step=0, max_depth=6, max_leaves=0, min_child_weight=1,\n",
       "             missing=nan, monotone_constraints='()', n_estimators=100, n_jobs=0,\n",
       "             num_parallel_tree=1, predictor='auto', random_state=0, reg_alpha=0,\n",
       "             reg_lambda=1, ...)"
      ]
     },
     "execution_count": 110,
     "metadata": {},
     "output_type": "execute_result"
    }
   ],
   "source": [
    "regressor = XGBRegressor()\n",
    "regressor.fit(xTrain, yTrain)"
   ]
  },
  {
   "cell_type": "code",
   "execution_count": 111,
   "id": "ed71cf6c",
   "metadata": {
    "ExecuteTime": {
     "end_time": "2024-03-05T16:11:23.228073Z",
     "start_time": "2024-03-05T16:11:23.162888Z"
    }
   },
   "outputs": [],
   "source": [
    "yPred = regressor.predict(xTest)"
   ]
  },
  {
   "cell_type": "code",
   "execution_count": 112,
   "id": "9e05b40e",
   "metadata": {
    "ExecuteTime": {
     "end_time": "2024-03-05T16:11:24.445498Z",
     "start_time": "2024-03-05T16:11:24.420069Z"
    }
   },
   "outputs": [
    {
     "data": {
      "text/plain": [
       "0.8586909940394811"
      ]
     },
     "execution_count": 112,
     "metadata": {},
     "output_type": "execute_result"
    }
   ],
   "source": [
    "r2_score(yTest, yPred)"
   ]
  },
  {
   "cell_type": "code",
   "execution_count": 113,
   "id": "3bfe7b12",
   "metadata": {
    "ExecuteTime": {
     "end_time": "2024-03-05T16:11:26.305245Z",
     "start_time": "2024-03-05T16:11:25.949680Z"
    }
   },
   "outputs": [
    {
     "data": {
      "image/png": "[encoded data removed]",
      "text/plain": [
       "<Figure size 640x480 with 1 Axes>"
      ]
     },
     "metadata": {},
     "output_type": "display_data"
    }
   ],
   "source": [
    "# Prediction graph\n",
    "xmin= min(yTest.min(), yPred.min() )-1\n",
    "xmax= max(yTest.max(), yPred.max() )+1\n",
    "fig = plt.figure(1)\n",
    "plt.scatter(yTest ,yPred, marker='+', label='test')\n",
    "plt.plot([xmin,xmax], [xmin,xmax], lw=3, color='k', ls='--') # droite separatrice d'equation x2=x1\n",
    "plt.xlabel('Groundtruth')\n",
    "plt.ylabel('Prediction') \n",
    "plt.title(\"Comparison of Ground Truth and Predictions using the {}.\".format('XGBRegressor'))\n",
    "plt.legend()\n",
    "plt.show() "
   ]
  },
  {
   "cell_type": "code",
   "execution_count": 114,
   "id": "6d35cf4d",
   "metadata": {
    "ExecuteTime": {
     "end_time": "2024-03-05T16:11:28.223585Z",
     "start_time": "2024-03-05T16:11:28.215470Z"
    },
    "run_control": {
     "marked": true
    }
   },
   "outputs": [],
   "source": [
    "import pickle"
   ]
  },
  {
   "cell_type": "code",
   "execution_count": 115,
   "id": "05b948a8",
   "metadata": {
    "ExecuteTime": {
     "end_time": "2024-03-05T16:11:32.302099Z",
     "start_time": "2024-03-05T16:11:32.294930Z"
    }
   },
   "outputs": [],
   "source": [
    "fileName = \"independentScaler.sav\"\n",
    "pickle.dump(independentScaler, open(fileName, 'wb'))"
   ]
  },
  {
   "cell_type": "code",
   "execution_count": 142,
   "id": "ce17d79b",
   "metadata": {
    "ExecuteTime": {
     "end_time": "2024-03-05T16:16:22.838382Z",
     "start_time": "2024-03-05T16:16:22.806621Z"
    }
   },
   "outputs": [
    {
     "name": "stderr",
     "output_type": "stream",
     "text": [
      "C:\\Users\\REVANTH KUMAR\\Anaconda3\\envs\\hopeAi\\lib\\site-packages\\sklearn\\base.py:451: UserWarning: X does not have valid feature names, but StandardScaler was fitted with feature names\n",
      "  \"X does not have valid feature names, but\"\n"
     ]
    },
    {
     "data": {
      "text/plain": [
       "array([[ 1.40029434,  0.030443  , -1.82427022, -0.06244416, -1.6740653 ,\n",
       "        -0.54427635,  0.631272  , -0.735479  , -0.85597148, -0.11324074,\n",
       "        -0.06875367, -0.05259306, -0.30434875,  0.31362513, -0.26969795,\n",
       "        -0.13373894]])"
      ]
     },
     "execution_count": 142,
     "metadata": {},
     "output_type": "execute_result"
    }
   ],
   "source": [
    "inputStandatScaler = pickle.load(open(\"independentScaler.sav\", \"rb\"))\n",
    "userInput = dataSet.drop(columns='adr').values[5]\n",
    "userInput = inputStandatScaler.transform([userInput])\n",
    "userInput"
   ]
  },
  {
   "cell_type": "code",
   "execution_count": 143,
   "id": "3170075d",
   "metadata": {
    "ExecuteTime": {
     "end_time": "2024-03-05T16:16:23.180347Z",
     "start_time": "2024-03-05T16:16:23.172289Z"
    }
   },
   "outputs": [],
   "source": [
    "# Model deployment"
   ]
  },
  {
   "cell_type": "code",
   "execution_count": 144,
   "id": "9b728482",
   "metadata": {
    "ExecuteTime": {
     "end_time": "2024-03-05T16:16:23.756551Z",
     "start_time": "2024-03-05T16:16:23.732779Z"
    }
   },
   "outputs": [],
   "source": [
    "fileName = \"hotelPriceModel.sav\"\n",
    "pickle.dump(regressor,open(fileName, 'wb'))"
   ]
  },
  {
   "cell_type": "code",
   "execution_count": 145,
   "id": "0115826f",
   "metadata": {
    "ExecuteTime": {
     "end_time": "2024-03-05T16:16:24.235490Z",
     "start_time": "2024-03-05T16:16:24.207264Z"
    }
   },
   "outputs": [],
   "source": [
    "loadModel = pickle.load(open(\"hotelPriceModel.sav\", \"rb\"))\n",
    "result = loadModel.predict(userInput)\n",
    "result = result[0]"
   ]
  },
  {
   "cell_type": "code",
   "execution_count": 146,
   "id": "8c1ca6c6",
   "metadata": {
    "ExecuteTime": {
     "end_time": "2024-03-05T16:16:24.732937Z",
     "start_time": "2024-03-05T16:16:24.715094Z"
    }
   },
   "outputs": [],
   "source": [
    "# mean of adr column\n",
    "mean = dataSet['adr'].mean()\n",
    "# std of adr column\n",
    "stdOFAdr = dataSet['adr'].std()"
   ]
  },
  {
   "cell_type": "code",
   "execution_count": 154,
   "id": "b4d89625",
   "metadata": {
    "ExecuteTime": {
     "end_time": "2024-03-05T16:18:09.202884Z",
     "start_time": "2024-03-05T16:18:09.197661Z"
    }
   },
   "outputs": [],
   "source": [
    "# standar scaler convert to numerical value\n",
    "original_data = (result * stdOFAdr + meanOfAdr)"
   ]
  },
  {
   "cell_type": "code",
   "execution_count": 155,
   "id": "44c6e861",
   "metadata": {
    "ExecuteTime": {
     "end_time": "2024-03-05T16:18:10.012690Z",
     "start_time": "2024-03-05T16:18:09.992666Z"
    }
   },
   "outputs": [
    {
     "data": {
      "text/plain": [
       "76.28184576769151"
      ]
     },
     "execution_count": 155,
     "metadata": {},
     "output_type": "execute_result"
    }
   ],
   "source": [
    "original_data"
   ]
  },
  {
   "cell_type": "code",
   "execution_count": null,
   "id": "e5e13e4b",
   "metadata": {
    "ExecuteTime": {
     "end_time": "2024-03-05T16:16:37.880206Z",
     "start_time": "2024-03-05T16:16:37.859678Z"
    }
   },
   "outputs": [],
   "source": []
  },
  {
   "cell_type": "code",
   "execution_count": null,
   "id": "398a706e",
   "metadata": {
    "ExecuteTime": {
     "end_time": "2024-03-05T16:16:27.426854Z",
     "start_time": "2024-03-05T16:16:27.405435Z"
    }
   },
   "outputs": [],
   "source": []
  },
  {
   "cell_type": "code",
   "execution_count": null,
   "id": "1bdb041d",
   "metadata": {},
   "outputs": [],
   "source": []
  }
 ],
 "metadata": {
  "hide_input": false,
  "kernelspec": {
   "display_name": "Python 3 (ipykernel)",
   "language": "python",
   "name": "python3"
  },
  "language_info": {
   "codemirror_mode": {
    "name": "ipython",
    "version": 3
   },
   "file_extension": ".py",
   "mimetype": "text/x-python",
   "name": "python",
   "nbconvert_exporter": "python",
   "pygments_lexer": "ipython3",
   "version": "3.7.6"
  },
  "toc": {
   "base_numbering": 1,
   "nav_menu": {},
   "number_sections": true,
   "sideBar": true,
   "skip_h1_title": false,
   "title_cell": "Table of Contents",
   "title_sidebar": "Contents",
   "toc_cell": false,
   "toc_position": {},
   "toc_section_display": true,
   "toc_window_display": false
  }
 },
 "nbformat": 4,
 "nbformat_minor": 5
}
